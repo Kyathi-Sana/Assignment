{
 "cells": [
  {
   "cell_type": "markdown",
   "id": "4f5b943f-224e-4ad3-92f6-c8c47973bdc2",
   "metadata": {},
   "source": [
    "## Numpy"
   ]
  },
  {
   "cell_type": "code",
   "execution_count": 2,
   "id": "1fffe8f8-dfc8-4f18-a317-d53629827e47",
   "metadata": {},
   "outputs": [],
   "source": [
    "import numpy as np\n",
    "from numpy import linalg as la"
   ]
  },
  {
   "cell_type": "code",
   "execution_count": 3,
   "id": "4e8adf27-2620-422c-9aec-6e51ef6a2e49",
   "metadata": {},
   "outputs": [],
   "source": [
    "A1=np.array([5,7])\n",
    "A2=np.array([[6,1],[2,8]])\n",
    "A3=np.array([[[4,3],[2,9]]])\n",
    "A4=np.array([[[[7,3],[6,6]]]])\n",
    "A5=np.array([[[[[3,3],[9,6]]]]])"
   ]
  },
  {
   "cell_type": "code",
   "execution_count": 4,
   "id": "8314b839-032d-4d7c-8e36-28af5ede18b5",
   "metadata": {},
   "outputs": [
    {
     "name": "stdout",
     "output_type": "stream",
     "text": [
      "[5 7]\n",
      "[[6 1]\n",
      " [2 8]]\n",
      "[[[4 3]\n",
      "  [2 9]]]\n",
      "[[[[7 3]\n",
      "   [6 6]]]]\n",
      "[[[[[3 3]\n",
      "    [9 6]]]]]\n"
     ]
    }
   ],
   "source": [
    "print(A1)\n",
    "print(A2)\n",
    "print(A3)\n",
    "print(A4)\n",
    "print(A5)"
   ]
  },
  {
   "cell_type": "code",
   "execution_count": 5,
   "id": "5a627ad3-399d-477c-8c05-c0e8e3455ca6",
   "metadata": {},
   "outputs": [
    {
     "name": "stdout",
     "output_type": "stream",
     "text": [
      "46.0\n"
     ]
    }
   ],
   "source": [
    "print(la.det(A2))"
   ]
  },
  {
   "cell_type": "code",
   "execution_count": 6,
   "id": "413f8ed5-f3f3-4172-93f5-e82ccc7e0bea",
   "metadata": {},
   "outputs": [
    {
     "name": "stdout",
     "output_type": "stream",
     "text": [
      "[30.]\n"
     ]
    }
   ],
   "source": [
    "print(la.det(A3))"
   ]
  },
  {
   "cell_type": "code",
   "execution_count": 7,
   "id": "bfc2b039-ed16-4d3e-9b68-c3a52ee547f5",
   "metadata": {},
   "outputs": [
    {
     "name": "stdout",
     "output_type": "stream",
     "text": [
      "[[24.]]\n"
     ]
    }
   ],
   "source": [
    "print(la.det(A4))"
   ]
  },
  {
   "cell_type": "code",
   "execution_count": 8,
   "id": "e9b7da69-22d0-41f6-801f-b74daff97884",
   "metadata": {},
   "outputs": [
    {
     "name": "stdout",
     "output_type": "stream",
     "text": [
      "[[[-9.]]]\n"
     ]
    }
   ],
   "source": [
    "print(la.det(A5))"
   ]
  },
  {
   "cell_type": "code",
   "execution_count": 9,
   "id": "53d78401-98d5-4c48-bb09-7d583dd2ae06",
   "metadata": {},
   "outputs": [
    {
     "name": "stdout",
     "output_type": "stream",
     "text": [
      "[[ 0.17391304 -0.02173913]\n",
      " [-0.04347826  0.13043478]]\n"
     ]
    }
   ],
   "source": [
    "print(la.inv(A2))"
   ]
  },
  {
   "cell_type": "code",
   "execution_count": 10,
   "id": "0aa13bb5-97ea-4f0b-8048-e72d159db031",
   "metadata": {},
   "outputs": [
    {
     "name": "stdout",
     "output_type": "stream",
     "text": [
      "[[[ 0.3        -0.1       ]\n",
      "  [-0.06666667  0.13333333]]]\n"
     ]
    }
   ],
   "source": [
    "print(la.inv(A3))"
   ]
  },
  {
   "cell_type": "code",
   "execution_count": 11,
   "id": "bae42137-df4c-4b6c-9c36-0107ad6338e5",
   "metadata": {},
   "outputs": [
    {
     "name": "stdout",
     "output_type": "stream",
     "text": [
      "[[[[ 0.25       -0.125     ]\n",
      "   [-0.25        0.29166667]]]]\n"
     ]
    }
   ],
   "source": [
    "print(la.inv(A4))"
   ]
  },
  {
   "cell_type": "code",
   "execution_count": 12,
   "id": "5cb23f6c-9a59-4230-85b0-8a3699933bd9",
   "metadata": {},
   "outputs": [
    {
     "name": "stdout",
     "output_type": "stream",
     "text": [
      "[[[[[-0.66666667  0.33333333]\n",
      "    [ 1.         -0.33333333]]]]]\n"
     ]
    }
   ],
   "source": [
    "print(la.inv(A5))"
   ]
  },
  {
   "cell_type": "code",
   "execution_count": 13,
   "id": "0c50496e-8ab4-42cb-b664-206b8d495562",
   "metadata": {},
   "outputs": [
    {
     "name": "stdout",
     "output_type": "stream",
     "text": [
      "1\n"
     ]
    }
   ],
   "source": [
    "print(la.matrix_rank(A1))"
   ]
  },
  {
   "cell_type": "code",
   "execution_count": 14,
   "id": "33cee21e-38ef-4709-ada7-725e108f3e49",
   "metadata": {},
   "outputs": [
    {
     "name": "stdout",
     "output_type": "stream",
     "text": [
      "2\n"
     ]
    }
   ],
   "source": [
    "print(la.matrix_rank(A2))"
   ]
  },
  {
   "cell_type": "code",
   "execution_count": 15,
   "id": "aff03cf8-26b4-43c1-b1e9-f488b646fb47",
   "metadata": {},
   "outputs": [
    {
     "name": "stdout",
     "output_type": "stream",
     "text": [
      "[2]\n"
     ]
    }
   ],
   "source": [
    "print(la.matrix_rank(A3))"
   ]
  },
  {
   "cell_type": "code",
   "execution_count": 16,
   "id": "77f69f17-2fed-4db5-a11f-da9261e49790",
   "metadata": {},
   "outputs": [
    {
     "name": "stdout",
     "output_type": "stream",
     "text": [
      "[[2]]\n"
     ]
    }
   ],
   "source": [
    "print(la.matrix_rank(A4))"
   ]
  },
  {
   "cell_type": "code",
   "execution_count": 17,
   "id": "04567e04-50d5-4c11-95c8-f5cccaa2ea2b",
   "metadata": {},
   "outputs": [
    {
     "name": "stdout",
     "output_type": "stream",
     "text": [
      "[[[2]]]\n"
     ]
    }
   ],
   "source": [
    "print(la.matrix_rank(A5))"
   ]
  },
  {
   "cell_type": "code",
   "execution_count": 18,
   "id": "b5a7c60d-bc55-4d02-8057-21c937a994a8",
   "metadata": {},
   "outputs": [
    {
     "name": "stdout",
     "output_type": "stream",
     "text": [
      "14\n"
     ]
    }
   ],
   "source": [
    "print(np.trace(A2))"
   ]
  },
  {
   "cell_type": "code",
   "execution_count": 19,
   "id": "0206e948-60d5-4cea-b1ff-7db58636bec8",
   "metadata": {},
   "outputs": [
    {
     "name": "stdout",
     "output_type": "stream",
     "text": [
      "[4 3]\n"
     ]
    }
   ],
   "source": [
    "print(np.trace(A3))"
   ]
  },
  {
   "cell_type": "code",
   "execution_count": 20,
   "id": "3fe103ca-bccb-4701-ada8-845ca92c8ca3",
   "metadata": {},
   "outputs": [
    {
     "name": "stdout",
     "output_type": "stream",
     "text": [
      "[[7 3]\n",
      " [6 6]]\n"
     ]
    }
   ],
   "source": [
    "print(np.trace(A4))"
   ]
  },
  {
   "cell_type": "code",
   "execution_count": 21,
   "id": "0a02a9a6-6cc5-4ff9-93b5-ec9bac67dfc8",
   "metadata": {},
   "outputs": [
    {
     "name": "stdout",
     "output_type": "stream",
     "text": [
      "[[[3 3]\n",
      "  [9 6]]]\n"
     ]
    }
   ],
   "source": [
    "print(np.trace(A5))"
   ]
  },
  {
   "cell_type": "code",
   "execution_count": 22,
   "id": "83cbf12c-fbf4-4d53-9f3e-a7b9577f2eec",
   "metadata": {},
   "outputs": [
    {
     "name": "stdout",
     "output_type": "stream",
     "text": [
      "[[5 0]\n",
      " [0 7]]\n"
     ]
    }
   ],
   "source": [
    "print(np.diag(A1))"
   ]
  },
  {
   "cell_type": "code",
   "execution_count": 23,
   "id": "e3a80a3f-87e4-430a-a3ba-a363d7243952",
   "metadata": {},
   "outputs": [
    {
     "name": "stdout",
     "output_type": "stream",
     "text": [
      "[6 8]\n"
     ]
    }
   ],
   "source": [
    "print(np.diag(A2))"
   ]
  },
  {
   "cell_type": "code",
   "execution_count": 24,
   "id": "cc838bf2-76e2-4a69-849c-90cb8726a358",
   "metadata": {},
   "outputs": [
    {
     "name": "stdout",
     "output_type": "stream",
     "text": [
      "Vectors: [[-0.80689822 -0.34372377]\n",
      " [ 0.59069049 -0.9390708 ]]\n"
     ]
    }
   ],
   "source": [
    "x,y=la.eig(A2)\n",
    "print(\"Vectors:\",y)"
   ]
  },
  {
   "cell_type": "code",
   "execution_count": 25,
   "id": "2c920498-c3d3-4d97-9fac-8005ca4f738f",
   "metadata": {},
   "outputs": [
    {
     "name": "stdout",
     "output_type": "stream",
     "text": [
      "Vectors: [[[-0.9486833  -0.4472136 ]\n",
      "  [ 0.31622777 -0.89442719]]]\n"
     ]
    }
   ],
   "source": [
    "x,y=la.eig(A3)\n",
    "print(\"Vectors:\",y)"
   ]
  },
  {
   "cell_type": "code",
   "execution_count": 26,
   "id": "f0edfa4f-d969-4747-86d0-0cb2127788d7",
   "metadata": {},
   "outputs": [
    {
     "name": "stdout",
     "output_type": "stream",
     "text": [
      "Vectors: [[[[ 0.62246561 -0.53222953]\n",
      "   [ 0.78264715  0.8466001 ]]]]\n"
     ]
    }
   ],
   "source": [
    "_,y=la.eig(A4)\n",
    "print(\"Vectors:\",y)"
   ]
  },
  {
   "cell_type": "code",
   "execution_count": 27,
   "id": "839dc239-764d-4cd2-98dd-715048348199",
   "metadata": {},
   "outputs": [
    {
     "name": "stdout",
     "output_type": "stream",
     "text": [
      "Roots: [[[[-0.90832691  9.90832691]]]]\n",
      "Vectors: [[[[[-0.60889368 -0.3983218 ]\n",
      "    [ 0.79325185 -0.91724574]]]]]\n"
     ]
    }
   ],
   "source": [
    "x,y=la.eig(A5)\n",
    "print(\"Roots:\",x)\n",
    "print(\"Vectors:\",y)"
   ]
  },
  {
   "cell_type": "code",
   "execution_count": 28,
   "id": "d2e2d681-700d-4f51-83b9-110bfa32e466",
   "metadata": {},
   "outputs": [
    {
     "name": "stdout",
     "output_type": "stream",
     "text": [
      "[5.26794919 8.73205081]\n"
     ]
    }
   ],
   "source": [
    "print(la.eigvals(A2))"
   ]
  },
  {
   "cell_type": "code",
   "execution_count": 29,
   "id": "1eb12bc4-47a5-4139-abce-85d2322de039",
   "metadata": {},
   "outputs": [
    {
     "name": "stdout",
     "output_type": "stream",
     "text": [
      "[[ 3. 10.]]\n"
     ]
    }
   ],
   "source": [
    "print(la.eigvals(A3))"
   ]
  },
  {
   "cell_type": "code",
   "execution_count": 30,
   "id": "d6faf137-ed4e-420b-a89f-50ea736d7b64",
   "metadata": {},
   "outputs": [
    {
     "name": "stdout",
     "output_type": "stream",
     "text": [
      "[[[10.77200187  2.22799813]]]\n"
     ]
    }
   ],
   "source": [
    "print(la.eigvals(A4))"
   ]
  },
  {
   "cell_type": "code",
   "execution_count": 31,
   "id": "0c0abd2d-f131-4cd9-9d46-d55d644109b5",
   "metadata": {},
   "outputs": [
    {
     "name": "stdout",
     "output_type": "stream",
     "text": [
      "[[[[-0.90832691  9.90832691]]]]\n"
     ]
    }
   ],
   "source": [
    "print(la.eigvals(A5))"
   ]
  },
  {
   "cell_type": "markdown",
   "id": "6cca6f94-1eb5-492d-ab85-c60256dd1f1f",
   "metadata": {},
   "source": [
    "## Pandas"
   ]
  },
  {
   "cell_type": "markdown",
   "id": "4a084691-9cd8-4fb5-aa39-fb89415b2e7e",
   "metadata": {},
   "source": [
    "## Data1"
   ]
  },
  {
   "cell_type": "code",
   "execution_count": 35,
   "id": "01173483-9f3b-45aa-b04f-932f3648fb9a",
   "metadata": {},
   "outputs": [
    {
     "data": {
      "text/html": [
       "<div>\n",
       "<style scoped>\n",
       "    .dataframe tbody tr th:only-of-type {\n",
       "        vertical-align: middle;\n",
       "    }\n",
       "\n",
       "    .dataframe tbody tr th {\n",
       "        vertical-align: top;\n",
       "    }\n",
       "\n",
       "    .dataframe thead th {\n",
       "        text-align: right;\n",
       "    }\n",
       "</style>\n",
       "<table border=\"1\" class=\"dataframe\">\n",
       "  <thead>\n",
       "    <tr style=\"text-align: right;\">\n",
       "      <th></th>\n",
       "      <th>Happiness Rank</th>\n",
       "      <th>Happiness Score</th>\n",
       "      <th>Standard Error</th>\n",
       "      <th>Economy (GDP per Capita)</th>\n",
       "      <th>Family</th>\n",
       "      <th>Health (Life Expectancy)</th>\n",
       "      <th>Freedom</th>\n",
       "      <th>Trust (Government Corruption)</th>\n",
       "      <th>Generosity</th>\n",
       "      <th>Dystopia Residual</th>\n",
       "    </tr>\n",
       "  </thead>\n",
       "  <tbody>\n",
       "    <tr>\n",
       "      <th>count</th>\n",
       "      <td>158.000000</td>\n",
       "      <td>158.000000</td>\n",
       "      <td>158.000000</td>\n",
       "      <td>158.000000</td>\n",
       "      <td>158.000000</td>\n",
       "      <td>158.000000</td>\n",
       "      <td>158.000000</td>\n",
       "      <td>158.000000</td>\n",
       "      <td>158.000000</td>\n",
       "      <td>158.000000</td>\n",
       "    </tr>\n",
       "    <tr>\n",
       "      <th>mean</th>\n",
       "      <td>79.493671</td>\n",
       "      <td>5.375734</td>\n",
       "      <td>0.047885</td>\n",
       "      <td>0.846137</td>\n",
       "      <td>0.991046</td>\n",
       "      <td>0.630259</td>\n",
       "      <td>0.428615</td>\n",
       "      <td>0.143422</td>\n",
       "      <td>0.237296</td>\n",
       "      <td>2.098977</td>\n",
       "    </tr>\n",
       "    <tr>\n",
       "      <th>std</th>\n",
       "      <td>45.754363</td>\n",
       "      <td>1.145010</td>\n",
       "      <td>0.017146</td>\n",
       "      <td>0.403121</td>\n",
       "      <td>0.272369</td>\n",
       "      <td>0.247078</td>\n",
       "      <td>0.150693</td>\n",
       "      <td>0.120034</td>\n",
       "      <td>0.126685</td>\n",
       "      <td>0.553550</td>\n",
       "    </tr>\n",
       "    <tr>\n",
       "      <th>min</th>\n",
       "      <td>1.000000</td>\n",
       "      <td>2.839000</td>\n",
       "      <td>0.018480</td>\n",
       "      <td>0.000000</td>\n",
       "      <td>0.000000</td>\n",
       "      <td>0.000000</td>\n",
       "      <td>0.000000</td>\n",
       "      <td>0.000000</td>\n",
       "      <td>0.000000</td>\n",
       "      <td>0.328580</td>\n",
       "    </tr>\n",
       "    <tr>\n",
       "      <th>25%</th>\n",
       "      <td>40.250000</td>\n",
       "      <td>4.526000</td>\n",
       "      <td>0.037268</td>\n",
       "      <td>0.545808</td>\n",
       "      <td>0.856823</td>\n",
       "      <td>0.439185</td>\n",
       "      <td>0.328330</td>\n",
       "      <td>0.061675</td>\n",
       "      <td>0.150553</td>\n",
       "      <td>1.759410</td>\n",
       "    </tr>\n",
       "    <tr>\n",
       "      <th>50%</th>\n",
       "      <td>79.500000</td>\n",
       "      <td>5.232500</td>\n",
       "      <td>0.043940</td>\n",
       "      <td>0.910245</td>\n",
       "      <td>1.029510</td>\n",
       "      <td>0.696705</td>\n",
       "      <td>0.435515</td>\n",
       "      <td>0.107220</td>\n",
       "      <td>0.216130</td>\n",
       "      <td>2.095415</td>\n",
       "    </tr>\n",
       "    <tr>\n",
       "      <th>75%</th>\n",
       "      <td>118.750000</td>\n",
       "      <td>6.243750</td>\n",
       "      <td>0.052300</td>\n",
       "      <td>1.158448</td>\n",
       "      <td>1.214405</td>\n",
       "      <td>0.811013</td>\n",
       "      <td>0.549092</td>\n",
       "      <td>0.180255</td>\n",
       "      <td>0.309883</td>\n",
       "      <td>2.462415</td>\n",
       "    </tr>\n",
       "    <tr>\n",
       "      <th>max</th>\n",
       "      <td>158.000000</td>\n",
       "      <td>7.587000</td>\n",
       "      <td>0.136930</td>\n",
       "      <td>1.690420</td>\n",
       "      <td>1.402230</td>\n",
       "      <td>1.025250</td>\n",
       "      <td>0.669730</td>\n",
       "      <td>0.551910</td>\n",
       "      <td>0.795880</td>\n",
       "      <td>3.602140</td>\n",
       "    </tr>\n",
       "  </tbody>\n",
       "</table>\n",
       "</div>"
      ],
      "text/plain": [
       "       Happiness Rank  Happiness Score  Standard Error  \\\n",
       "count      158.000000       158.000000      158.000000   \n",
       "mean        79.493671         5.375734        0.047885   \n",
       "std         45.754363         1.145010        0.017146   \n",
       "min          1.000000         2.839000        0.018480   \n",
       "25%         40.250000         4.526000        0.037268   \n",
       "50%         79.500000         5.232500        0.043940   \n",
       "75%        118.750000         6.243750        0.052300   \n",
       "max        158.000000         7.587000        0.136930   \n",
       "\n",
       "       Economy (GDP per Capita)      Family  Health (Life Expectancy)  \\\n",
       "count                158.000000  158.000000                158.000000   \n",
       "mean                   0.846137    0.991046                  0.630259   \n",
       "std                    0.403121    0.272369                  0.247078   \n",
       "min                    0.000000    0.000000                  0.000000   \n",
       "25%                    0.545808    0.856823                  0.439185   \n",
       "50%                    0.910245    1.029510                  0.696705   \n",
       "75%                    1.158448    1.214405                  0.811013   \n",
       "max                    1.690420    1.402230                  1.025250   \n",
       "\n",
       "          Freedom  Trust (Government Corruption)  Generosity  \\\n",
       "count  158.000000                     158.000000  158.000000   \n",
       "mean     0.428615                       0.143422    0.237296   \n",
       "std      0.150693                       0.120034    0.126685   \n",
       "min      0.000000                       0.000000    0.000000   \n",
       "25%      0.328330                       0.061675    0.150553   \n",
       "50%      0.435515                       0.107220    0.216130   \n",
       "75%      0.549092                       0.180255    0.309883   \n",
       "max      0.669730                       0.551910    0.795880   \n",
       "\n",
       "       Dystopia Residual  \n",
       "count         158.000000  \n",
       "mean            2.098977  \n",
       "std             0.553550  \n",
       "min             0.328580  \n",
       "25%             1.759410  \n",
       "50%             2.095415  \n",
       "75%             2.462415  \n",
       "max             3.602140  "
      ]
     },
     "execution_count": 35,
     "metadata": {},
     "output_type": "execute_result"
    }
   ],
   "source": [
    "import pandas as pd\n",
    "data=pd.read_csv(r\"C:\\Users\\kyathi\\Downloads\\1_2015.csv\")\n",
    "data.describe()\n",
    "\n",
    "\n"
   ]
  },
  {
   "cell_type": "code",
   "execution_count": 36,
   "id": "8e50e9ab-2f3d-4a34-8ca3-92d62fbcad53",
   "metadata": {},
   "outputs": [
    {
     "name": "stdout",
     "output_type": "stream",
     "text": [
      "<class 'pandas.core.frame.DataFrame'>\n",
      "RangeIndex: 158 entries, 0 to 157\n",
      "Data columns (total 12 columns):\n",
      " #   Column                         Non-Null Count  Dtype  \n",
      "---  ------                         --------------  -----  \n",
      " 0   Country                        158 non-null    object \n",
      " 1   Region                         158 non-null    object \n",
      " 2   Happiness Rank                 158 non-null    int64  \n",
      " 3   Happiness Score                158 non-null    float64\n",
      " 4   Standard Error                 158 non-null    float64\n",
      " 5   Economy (GDP per Capita)       158 non-null    float64\n",
      " 6   Family                         158 non-null    float64\n",
      " 7   Health (Life Expectancy)       158 non-null    float64\n",
      " 8   Freedom                        158 non-null    float64\n",
      " 9   Trust (Government Corruption)  158 non-null    float64\n",
      " 10  Generosity                     158 non-null    float64\n",
      " 11  Dystopia Residual              158 non-null    float64\n",
      "dtypes: float64(9), int64(1), object(2)\n",
      "memory usage: 14.9+ KB\n"
     ]
    }
   ],
   "source": [
    "data.info()"
   ]
  },
  {
   "cell_type": "code",
   "execution_count": 37,
   "id": "09a73e5e-7ca7-40ff-8cf6-4d03bf197b3e",
   "metadata": {},
   "outputs": [
    {
     "name": "stdout",
     "output_type": "stream",
     "text": [
      "\n",
      "Sum:\n",
      " Country                          SwitzerlandIcelandDenmarkNorwayCanadaFinlandNe...\n",
      "Region                           Western EuropeWestern EuropeWestern EuropeWest...\n",
      "Happiness Rank                                                               12560\n",
      "Happiness Score                                                            849.366\n",
      "Standard Error                                                             7.56579\n",
      "Economy (GDP per Capita)                                                 133.68968\n",
      "Family                                                                   156.58526\n",
      "Health (Life Expectancy)                                                  99.58098\n",
      "Freedom                                                                   67.72116\n",
      "Trust (Government Corruption)                                             22.66065\n",
      "Generosity                                                                37.49269\n",
      "Dystopia Residual                                                        331.63833\n",
      "dtype: object\n"
     ]
    }
   ],
   "source": [
    "print(\"\\nSum:\\n\",data.sum())"
   ]
  },
  {
   "cell_type": "code",
   "execution_count": 38,
   "id": "d8011d02-c740-4ba7-b651-c0deccb48b50",
   "metadata": {},
   "outputs": [
    {
     "name": "stdout",
     "output_type": "stream",
     "text": [
      "\n",
      "Cummulative sum\n",
      ":                                                Country  \\\n",
      "0                                          Switzerland   \n",
      "1                                   SwitzerlandIceland   \n",
      "2                            SwitzerlandIcelandDenmark   \n",
      "3                      SwitzerlandIcelandDenmarkNorway   \n",
      "4                SwitzerlandIcelandDenmarkNorwayCanada   \n",
      "..                                                 ...   \n",
      "153  SwitzerlandIcelandDenmarkNorwayCanadaFinlandNe...   \n",
      "154  SwitzerlandIcelandDenmarkNorwayCanadaFinlandNe...   \n",
      "155  SwitzerlandIcelandDenmarkNorwayCanadaFinlandNe...   \n",
      "156  SwitzerlandIcelandDenmarkNorwayCanadaFinlandNe...   \n",
      "157  SwitzerlandIcelandDenmarkNorwayCanadaFinlandNe...   \n",
      "\n",
      "                                                Region  Happiness Rank  \\\n",
      "0                                       Western Europe               1   \n",
      "1                         Western EuropeWestern Europe               3   \n",
      "2           Western EuropeWestern EuropeWestern Europe               6   \n",
      "3    Western EuropeWestern EuropeWestern EuropeWest...              10   \n",
      "4    Western EuropeWestern EuropeWestern EuropeWest...              15   \n",
      "..                                                 ...             ...   \n",
      "153  Western EuropeWestern EuropeWestern EuropeWest...           11934   \n",
      "154  Western EuropeWestern EuropeWestern EuropeWest...           12089   \n",
      "155  Western EuropeWestern EuropeWestern EuropeWest...           12245   \n",
      "156  Western EuropeWestern EuropeWestern EuropeWest...           12402   \n",
      "157  Western EuropeWestern EuropeWestern EuropeWest...           12560   \n",
      "\n",
      "     Happiness Score  Standard Error  Economy (GDP per Capita)     Family  \\\n",
      "0              7.587         0.03411                   1.39651    1.34951   \n",
      "1             15.148         0.08295                   2.69883    2.75174   \n",
      "2             22.675         0.11623                   4.02431    4.11232   \n",
      "3             30.197         0.15503                   5.48331    5.44327   \n",
      "4             37.624         0.19056                   6.80960    6.76588   \n",
      "..               ...             ...                       ...        ...   \n",
      "153          837.276         7.32523                 132.51585  155.20069   \n",
      "154          840.616         7.36179                 132.80250  155.55455   \n",
      "155          843.622         7.41194                 133.46570  156.02944   \n",
      "156          846.527         7.49852                 133.48100  156.44531   \n",
      "157          849.366         7.56579                 133.68968  156.58526   \n",
      "\n",
      "     Health (Life Expectancy)   Freedom  Trust (Government Corruption)  \\\n",
      "0                     0.94143   0.66557                        0.41978   \n",
      "1                     1.88927   1.29434                        0.56123   \n",
      "2                     2.76391   1.94372                        1.04480   \n",
      "3                     3.64912   2.61345                        1.40983   \n",
      "4                     4.55475   3.24642                        1.73940   \n",
      "..                        ...       ...                            ...   \n",
      "153                  98.03156  66.59679                       22.18356   \n",
      "154                  98.35066  67.08129                       22.26366   \n",
      "155                  99.07259  67.23813                       22.45272   \n",
      "156                  99.29655  67.35663                       22.55334   \n",
      "157                  99.58098  67.72116                       22.66065   \n",
      "\n",
      "     Generosity  Dystopia Residual  \n",
      "0       0.29678            2.51738  \n",
      "1       0.73308            5.21939  \n",
      "2       1.07447            7.71143  \n",
      "3       1.42146           10.17674  \n",
      "4       1.87957           12.62850  \n",
      "..          ...                ...  \n",
      "153    36.47422          326.27619  \n",
      "154    36.65682          327.90947  \n",
      "155    37.12861          328.23805  \n",
      "156    37.32588          330.07107  \n",
      "157    37.49269          331.63833  \n",
      "\n",
      "[158 rows x 12 columns]\n"
     ]
    }
   ],
   "source": [
    "print(\"\\nCummulative sum\\n:\",data.cumsum())"
   ]
  },
  {
   "cell_type": "code",
   "execution_count": 39,
   "id": "4d1687d8-a1bb-4ee6-80f7-92447e432137",
   "metadata": {},
   "outputs": [
    {
     "name": "stdout",
     "output_type": "stream",
     "text": [
      "\n",
      "Count:\n",
      " Country                          158\n",
      "Region                           158\n",
      "Happiness Rank                   158\n",
      "Happiness Score                  158\n",
      "Standard Error                   158\n",
      "Economy (GDP per Capita)         158\n",
      "Family                           158\n",
      "Health (Life Expectancy)         158\n",
      "Freedom                          158\n",
      "Trust (Government Corruption)    158\n",
      "Generosity                       158\n",
      "Dystopia Residual                158\n",
      "dtype: int64\n"
     ]
    }
   ],
   "source": [
    "print(\"\\nCount:\\n\",data.count())\n"
   ]
  },
  {
   "cell_type": "code",
   "execution_count": 40,
   "id": "b3dac413-b5e2-42f3-96c8-a3cfb7d6c45d",
   "metadata": {},
   "outputs": [
    {
     "name": "stdout",
     "output_type": "stream",
     "text": [
      "\n",
      "Max:\n",
      " Country                                Zimbabwe\n",
      "Region                           Western Europe\n",
      "Happiness Rank                              158\n",
      "Happiness Score                           7.587\n",
      "Standard Error                          0.13693\n",
      "Economy (GDP per Capita)                1.69042\n",
      "Family                                  1.40223\n",
      "Health (Life Expectancy)                1.02525\n",
      "Freedom                                 0.66973\n",
      "Trust (Government Corruption)           0.55191\n",
      "Generosity                              0.79588\n",
      "Dystopia Residual                       3.60214\n",
      "dtype: object\n"
     ]
    }
   ],
   "source": [
    "print(\"\\nMax:\\n\",data.max())\n"
   ]
  },
  {
   "cell_type": "code",
   "execution_count": 41,
   "id": "5b439e2a-542b-4216-832e-e47a6adc0fe5",
   "metadata": {},
   "outputs": [
    {
     "name": "stdout",
     "output_type": "stream",
     "text": [
      "\n",
      "Min:\n",
      " Country                                        Afghanistan\n",
      "Region                           Australia and New Zealand\n",
      "Happiness Rank                                           1\n",
      "Happiness Score                                      2.839\n",
      "Standard Error                                     0.01848\n",
      "Economy (GDP per Capita)                               0.0\n",
      "Family                                                 0.0\n",
      "Health (Life Expectancy)                               0.0\n",
      "Freedom                                                0.0\n",
      "Trust (Government Corruption)                          0.0\n",
      "Generosity                                             0.0\n",
      "Dystopia Residual                                  0.32858\n",
      "dtype: object\n"
     ]
    }
   ],
   "source": [
    "print(\"\\nMin:\\n\",data.min())"
   ]
  },
  {
   "cell_type": "code",
   "execution_count": 42,
   "id": "73110e9f-2ff0-4f71-bdb3-a9e2faa663ff",
   "metadata": {},
   "outputs": [
    {
     "data": {
      "text/html": [
       "<div>\n",
       "<style scoped>\n",
       "    .dataframe tbody tr th:only-of-type {\n",
       "        vertical-align: middle;\n",
       "    }\n",
       "\n",
       "    .dataframe tbody tr th {\n",
       "        vertical-align: top;\n",
       "    }\n",
       "\n",
       "    .dataframe thead th {\n",
       "        text-align: right;\n",
       "    }\n",
       "</style>\n",
       "<table border=\"1\" class=\"dataframe\">\n",
       "  <thead>\n",
       "    <tr style=\"text-align: right;\">\n",
       "      <th></th>\n",
       "      <th>Country</th>\n",
       "      <th>Region</th>\n",
       "      <th>Happiness Rank</th>\n",
       "      <th>Happiness Score</th>\n",
       "      <th>Standard Error</th>\n",
       "      <th>Economy (GDP per Capita)</th>\n",
       "      <th>Family</th>\n",
       "      <th>Health (Life Expectancy)</th>\n",
       "      <th>Freedom</th>\n",
       "      <th>Trust (Government Corruption)</th>\n",
       "      <th>Generosity</th>\n",
       "      <th>Dystopia Residual</th>\n",
       "    </tr>\n",
       "  </thead>\n",
       "  <tbody>\n",
       "    <tr>\n",
       "      <th>0</th>\n",
       "      <td>Switzerland</td>\n",
       "      <td>Western Europe</td>\n",
       "      <td>1</td>\n",
       "      <td>7.587</td>\n",
       "      <td>0.03411</td>\n",
       "      <td>1.39651</td>\n",
       "      <td>1.34951</td>\n",
       "      <td>0.94143</td>\n",
       "      <td>0.66557</td>\n",
       "      <td>0.41978</td>\n",
       "      <td>0.29678</td>\n",
       "      <td>2.51738</td>\n",
       "    </tr>\n",
       "    <tr>\n",
       "      <th>1</th>\n",
       "      <td>Iceland</td>\n",
       "      <td>Western Europe</td>\n",
       "      <td>2</td>\n",
       "      <td>7.561</td>\n",
       "      <td>0.04884</td>\n",
       "      <td>1.30232</td>\n",
       "      <td>1.40223</td>\n",
       "      <td>0.94784</td>\n",
       "      <td>0.62877</td>\n",
       "      <td>0.14145</td>\n",
       "      <td>0.43630</td>\n",
       "      <td>2.70201</td>\n",
       "    </tr>\n",
       "    <tr>\n",
       "      <th>2</th>\n",
       "      <td>Denmark</td>\n",
       "      <td>Western Europe</td>\n",
       "      <td>3</td>\n",
       "      <td>7.527</td>\n",
       "      <td>0.03328</td>\n",
       "      <td>1.32548</td>\n",
       "      <td>1.36058</td>\n",
       "      <td>0.87464</td>\n",
       "      <td>0.64938</td>\n",
       "      <td>0.48357</td>\n",
       "      <td>0.34139</td>\n",
       "      <td>2.49204</td>\n",
       "    </tr>\n",
       "    <tr>\n",
       "      <th>3</th>\n",
       "      <td>Norway</td>\n",
       "      <td>Western Europe</td>\n",
       "      <td>4</td>\n",
       "      <td>7.522</td>\n",
       "      <td>0.03880</td>\n",
       "      <td>1.45900</td>\n",
       "      <td>1.33095</td>\n",
       "      <td>0.88521</td>\n",
       "      <td>0.66973</td>\n",
       "      <td>0.36503</td>\n",
       "      <td>0.34699</td>\n",
       "      <td>2.46531</td>\n",
       "    </tr>\n",
       "    <tr>\n",
       "      <th>4</th>\n",
       "      <td>Canada</td>\n",
       "      <td>North America</td>\n",
       "      <td>5</td>\n",
       "      <td>7.427</td>\n",
       "      <td>0.03553</td>\n",
       "      <td>1.32629</td>\n",
       "      <td>1.32261</td>\n",
       "      <td>0.90563</td>\n",
       "      <td>0.63297</td>\n",
       "      <td>0.32957</td>\n",
       "      <td>0.45811</td>\n",
       "      <td>2.45176</td>\n",
       "    </tr>\n",
       "  </tbody>\n",
       "</table>\n",
       "</div>"
      ],
      "text/plain": [
       "       Country          Region  Happiness Rank  Happiness Score  \\\n",
       "0  Switzerland  Western Europe               1            7.587   \n",
       "1      Iceland  Western Europe               2            7.561   \n",
       "2      Denmark  Western Europe               3            7.527   \n",
       "3       Norway  Western Europe               4            7.522   \n",
       "4       Canada   North America               5            7.427   \n",
       "\n",
       "   Standard Error  Economy (GDP per Capita)   Family  \\\n",
       "0         0.03411                   1.39651  1.34951   \n",
       "1         0.04884                   1.30232  1.40223   \n",
       "2         0.03328                   1.32548  1.36058   \n",
       "3         0.03880                   1.45900  1.33095   \n",
       "4         0.03553                   1.32629  1.32261   \n",
       "\n",
       "   Health (Life Expectancy)  Freedom  Trust (Government Corruption)  \\\n",
       "0                   0.94143  0.66557                        0.41978   \n",
       "1                   0.94784  0.62877                        0.14145   \n",
       "2                   0.87464  0.64938                        0.48357   \n",
       "3                   0.88521  0.66973                        0.36503   \n",
       "4                   0.90563  0.63297                        0.32957   \n",
       "\n",
       "   Generosity  Dystopia Residual  \n",
       "0     0.29678            2.51738  \n",
       "1     0.43630            2.70201  \n",
       "2     0.34139            2.49204  \n",
       "3     0.34699            2.46531  \n",
       "4     0.45811            2.45176  "
      ]
     },
     "execution_count": 42,
     "metadata": {},
     "output_type": "execute_result"
    }
   ],
   "source": [
    "data.head()"
   ]
  },
  {
   "cell_type": "code",
   "execution_count": 43,
   "id": "b2c45803-7e4e-463c-9dd7-494f7300675a",
   "metadata": {},
   "outputs": [
    {
     "data": {
      "text/plain": [
       "Index(['Country', 'Region', 'Happiness Rank', 'Happiness Score',\n",
       "       'Standard Error', 'Economy (GDP per Capita)', 'Family',\n",
       "       'Health (Life Expectancy)', 'Freedom', 'Trust (Government Corruption)',\n",
       "       'Generosity', 'Dystopia Residual'],\n",
       "      dtype='object')"
      ]
     },
     "execution_count": 43,
     "metadata": {},
     "output_type": "execute_result"
    }
   ],
   "source": [
    "data.columns"
   ]
  },
  {
   "cell_type": "code",
   "execution_count": 44,
   "id": "a2ce8648-6735-4aef-b9d8-4b7f2648849d",
   "metadata": {},
   "outputs": [],
   "source": [
    "new_data = data.drop([\"Country\",\"Region\"],axis=1)"
   ]
  },
  {
   "cell_type": "code",
   "execution_count": 45,
   "id": "7f037f99-6093-4b61-9221-6f8fd0784716",
   "metadata": {},
   "outputs": [
    {
     "name": "stdout",
     "output_type": "stream",
     "text": [
      "\n",
      "Mean:\n",
      " Happiness Rank                   79.493671\n",
      "Happiness Score                   5.375734\n",
      "Standard Error                    0.047885\n",
      "Economy (GDP per Capita)          0.846137\n",
      "Family                            0.991046\n",
      "Health (Life Expectancy)          0.630259\n",
      "Freedom                           0.428615\n",
      "Trust (Government Corruption)     0.143422\n",
      "Generosity                        0.237296\n",
      "Dystopia Residual                 2.098977\n",
      "dtype: float64\n"
     ]
    }
   ],
   "source": [
    "print(\"\\nMean:\\n\",new_data.mean())"
   ]
  },
  {
   "cell_type": "code",
   "execution_count": 46,
   "id": "db6ed5d1-6e6c-44b7-a59b-c40cb81720dd",
   "metadata": {},
   "outputs": [
    {
     "name": "stdout",
     "output_type": "stream",
     "text": [
      "\n",
      "Mean:\n",
      "      Happiness Rank  Happiness Score  Standard Error  \\\n",
      "0              82.0            5.192         0.03751   \n",
      "1               NaN              NaN         0.03780   \n",
      "2               NaN              NaN         0.04394   \n",
      "3               NaN              NaN         0.04934   \n",
      "4               NaN              NaN         0.05051   \n",
      "..              ...              ...             ...   \n",
      "153             NaN              NaN             NaN   \n",
      "154             NaN              NaN             NaN   \n",
      "155             NaN              NaN             NaN   \n",
      "156             NaN              NaN             NaN   \n",
      "157             NaN              NaN             NaN   \n",
      "\n",
      "     Economy (GDP per Capita)   Family  Health (Life Expectancy)  Freedom  \\\n",
      "0                     0.00000  0.00000                   0.92356  0.00000   \n",
      "1                     0.01530  0.13995                       NaN  0.07699   \n",
      "2                     0.01604  0.30285                       NaN  0.09245   \n",
      "3                     0.06940  0.35386                       NaN  0.10081   \n",
      "4                     0.07120  0.38174                       NaN  0.10384   \n",
      "..                        ...      ...                       ...      ...   \n",
      "153                   1.45900  1.34043                       NaN  0.65821   \n",
      "154                   1.52186  1.34951                       NaN  0.65980   \n",
      "155                   1.55422  1.36058                       NaN  0.66246   \n",
      "156                   1.56391  1.36948                       NaN  0.66557   \n",
      "157                   1.69042  1.40223                       NaN  0.66973   \n",
      "\n",
      "     Trust (Government Corruption)  Generosity  Dystopia Residual  \n",
      "0                          0.32524     0.00000            0.32858  \n",
      "1                              NaN     0.00199            0.65429  \n",
      "2                              NaN     0.02641            0.67042  \n",
      "3                              NaN     0.05444            0.67108  \n",
      "4                              NaN     0.05547            0.89991  \n",
      "..                             ...         ...                ...  \n",
      "153                            NaN     0.51535            3.10712  \n",
      "154                            NaN     0.51752            3.17728  \n",
      "155                            NaN     0.51912            3.19131  \n",
      "156                            NaN     0.57630            3.26001  \n",
      "157                            NaN     0.79588            3.60214  \n",
      "\n",
      "[158 rows x 10 columns]\n"
     ]
    }
   ],
   "source": [
    "print(\"\\nMean:\\n\",new_data.mode())"
   ]
  },
  {
   "cell_type": "code",
   "execution_count": 47,
   "id": "30fa1559-b79d-4a17-9e30-206498541c55",
   "metadata": {},
   "outputs": [
    {
     "name": "stdout",
     "output_type": "stream",
     "text": [
      "\n",
      "Mean:\n",
      " Happiness Rank                   79.500000\n",
      "Happiness Score                   5.232500\n",
      "Standard Error                    0.043940\n",
      "Economy (GDP per Capita)          0.910245\n",
      "Family                            1.029510\n",
      "Health (Life Expectancy)          0.696705\n",
      "Freedom                           0.435515\n",
      "Trust (Government Corruption)     0.107220\n",
      "Generosity                        0.216130\n",
      "Dystopia Residual                 2.095415\n",
      "dtype: float64\n"
     ]
    }
   ],
   "source": [
    "print(\"\\nMean:\\n\",new_data.median())"
   ]
  },
  {
   "cell_type": "code",
   "execution_count": 48,
   "id": "36f3e47a-5138-4be0-bc50-58d605eb99df",
   "metadata": {},
   "outputs": [],
   "source": [
    "from numpy import cov"
   ]
  },
  {
   "cell_type": "code",
   "execution_count": 49,
   "id": "8bcf0a99-c497-43c8-8868-85289758d588",
   "metadata": {},
   "outputs": [
    {
     "data": {
      "text/plain": [
       "0      0.66557\n",
       "1      0.62877\n",
       "2      0.64938\n",
       "3      0.66973\n",
       "4      0.63297\n",
       "        ...   \n",
       "153    0.59201\n",
       "154    0.48450\n",
       "155    0.15684\n",
       "156    0.11850\n",
       "157    0.36453\n",
       "Name: Freedom, Length: 158, dtype: float64"
      ]
     },
     "execution_count": 49,
     "metadata": {},
     "output_type": "execute_result"
    }
   ],
   "source": [
    "data1= data.Family\n",
    "data2 = data.Freedom\n",
    "data1\n",
    "data2"
   ]
  },
  {
   "cell_type": "code",
   "execution_count": 50,
   "id": "6e3b4566-f2a8-42f6-8477-11be623d651a",
   "metadata": {},
   "outputs": [
    {
     "name": "stdout",
     "output_type": "stream",
     "text": [
      "[[0.07418492 0.0181217 ]\n",
      " [0.0181217  0.02270832]]\n"
     ]
    }
   ],
   "source": [
    "covariance=cov(data1,data2)\n",
    "print(covariance)"
   ]
  },
  {
   "cell_type": "code",
   "execution_count": 51,
   "id": "42d84fc8-21da-4c33-b402-020161bece5a",
   "metadata": {},
   "outputs": [
    {
     "name": "stdout",
     "output_type": "stream",
     "text": [
      "0.44151821062286056\n"
     ]
    }
   ],
   "source": [
    "from scipy.stats import pearsonr\n",
    "data1=data.Family\n",
    "data2=data.Freedom\n",
    "corr,_=pearsonr(data1,data2)\n",
    "print(corr)"
   ]
  },
  {
   "cell_type": "code",
   "execution_count": 71,
   "id": "419f6dba-987d-4e34-a85a-745b796f4078",
   "metadata": {},
   "outputs": [
    {
     "name": "stdout",
     "output_type": "stream",
     "text": [
      "0.5281391142435108\n"
     ]
    }
   ],
   "source": [
    "from scipy.stats import spearmanr\n",
    "data1=data.Family\n",
    "data2=data.Freedom\n",
    "corr,_=spearmanr(data1,data2)\n",
    "print(corr)"
   ]
  },
  {
   "cell_type": "markdown",
   "id": "29844497-6c99-4212-8bca-c9bb6cfed1c9",
   "metadata": {},
   "source": [
    "## Data2"
   ]
  },
  {
   "cell_type": "code",
   "execution_count": 53,
   "id": "a6a3706f-6097-43da-a832-241d71c07b42",
   "metadata": {},
   "outputs": [
    {
     "data": {
      "text/html": [
       "<div>\n",
       "<style scoped>\n",
       "    .dataframe tbody tr th:only-of-type {\n",
       "        vertical-align: middle;\n",
       "    }\n",
       "\n",
       "    .dataframe tbody tr th {\n",
       "        vertical-align: top;\n",
       "    }\n",
       "\n",
       "    .dataframe thead th {\n",
       "        text-align: right;\n",
       "    }\n",
       "</style>\n",
       "<table border=\"1\" class=\"dataframe\">\n",
       "  <thead>\n",
       "    <tr style=\"text-align: right;\">\n",
       "      <th></th>\n",
       "      <th>Age</th>\n",
       "      <th>Sex</th>\n",
       "      <th>BP</th>\n",
       "      <th>Cholesterol</th>\n",
       "      <th>Na_to_K</th>\n",
       "      <th>Drug</th>\n",
       "    </tr>\n",
       "  </thead>\n",
       "  <tbody>\n",
       "    <tr>\n",
       "      <th>0</th>\n",
       "      <td>23</td>\n",
       "      <td>F</td>\n",
       "      <td>HIGH</td>\n",
       "      <td>HIGH</td>\n",
       "      <td>25.355</td>\n",
       "      <td>drugY</td>\n",
       "    </tr>\n",
       "    <tr>\n",
       "      <th>1</th>\n",
       "      <td>47</td>\n",
       "      <td>M</td>\n",
       "      <td>LOW</td>\n",
       "      <td>HIGH</td>\n",
       "      <td>13.093</td>\n",
       "      <td>drugC</td>\n",
       "    </tr>\n",
       "    <tr>\n",
       "      <th>2</th>\n",
       "      <td>47</td>\n",
       "      <td>M</td>\n",
       "      <td>LOW</td>\n",
       "      <td>HIGH</td>\n",
       "      <td>10.114</td>\n",
       "      <td>drugC</td>\n",
       "    </tr>\n",
       "    <tr>\n",
       "      <th>3</th>\n",
       "      <td>28</td>\n",
       "      <td>F</td>\n",
       "      <td>NORMAL</td>\n",
       "      <td>HIGH</td>\n",
       "      <td>7.798</td>\n",
       "      <td>drugX</td>\n",
       "    </tr>\n",
       "    <tr>\n",
       "      <th>4</th>\n",
       "      <td>61</td>\n",
       "      <td>F</td>\n",
       "      <td>LOW</td>\n",
       "      <td>HIGH</td>\n",
       "      <td>18.043</td>\n",
       "      <td>drugY</td>\n",
       "    </tr>\n",
       "    <tr>\n",
       "      <th>...</th>\n",
       "      <td>...</td>\n",
       "      <td>...</td>\n",
       "      <td>...</td>\n",
       "      <td>...</td>\n",
       "      <td>...</td>\n",
       "      <td>...</td>\n",
       "    </tr>\n",
       "    <tr>\n",
       "      <th>195</th>\n",
       "      <td>56</td>\n",
       "      <td>F</td>\n",
       "      <td>LOW</td>\n",
       "      <td>HIGH</td>\n",
       "      <td>11.567</td>\n",
       "      <td>drugC</td>\n",
       "    </tr>\n",
       "    <tr>\n",
       "      <th>196</th>\n",
       "      <td>16</td>\n",
       "      <td>M</td>\n",
       "      <td>LOW</td>\n",
       "      <td>HIGH</td>\n",
       "      <td>12.006</td>\n",
       "      <td>drugC</td>\n",
       "    </tr>\n",
       "    <tr>\n",
       "      <th>197</th>\n",
       "      <td>52</td>\n",
       "      <td>M</td>\n",
       "      <td>NORMAL</td>\n",
       "      <td>HIGH</td>\n",
       "      <td>9.894</td>\n",
       "      <td>drugX</td>\n",
       "    </tr>\n",
       "    <tr>\n",
       "      <th>198</th>\n",
       "      <td>23</td>\n",
       "      <td>M</td>\n",
       "      <td>NORMAL</td>\n",
       "      <td>NORMAL</td>\n",
       "      <td>14.020</td>\n",
       "      <td>drugX</td>\n",
       "    </tr>\n",
       "    <tr>\n",
       "      <th>199</th>\n",
       "      <td>40</td>\n",
       "      <td>F</td>\n",
       "      <td>LOW</td>\n",
       "      <td>NORMAL</td>\n",
       "      <td>11.349</td>\n",
       "      <td>drugX</td>\n",
       "    </tr>\n",
       "  </tbody>\n",
       "</table>\n",
       "<p>200 rows × 6 columns</p>\n",
       "</div>"
      ],
      "text/plain": [
       "     Age Sex      BP Cholesterol  Na_to_K   Drug\n",
       "0     23   F    HIGH        HIGH   25.355  drugY\n",
       "1     47   M     LOW        HIGH   13.093  drugC\n",
       "2     47   M     LOW        HIGH   10.114  drugC\n",
       "3     28   F  NORMAL        HIGH    7.798  drugX\n",
       "4     61   F     LOW        HIGH   18.043  drugY\n",
       "..   ...  ..     ...         ...      ...    ...\n",
       "195   56   F     LOW        HIGH   11.567  drugC\n",
       "196   16   M     LOW        HIGH   12.006  drugC\n",
       "197   52   M  NORMAL        HIGH    9.894  drugX\n",
       "198   23   M  NORMAL      NORMAL   14.020  drugX\n",
       "199   40   F     LOW      NORMAL   11.349  drugX\n",
       "\n",
       "[200 rows x 6 columns]"
      ]
     },
     "execution_count": 53,
     "metadata": {},
     "output_type": "execute_result"
    }
   ],
   "source": [
    "import pandas as pd\n",
    "data2=pd.read_csv(r\"C:\\Users\\kyathi\\Downloads\\4_Drug200.csv\")\n",
    "data2\n"
   ]
  },
  {
   "cell_type": "code",
   "execution_count": 54,
   "id": "eaeb3e5e-3a23-4d56-bcb0-115704f8c4bf",
   "metadata": {},
   "outputs": [
    {
     "name": "stdout",
     "output_type": "stream",
     "text": [
      "Age                                                         8863\n",
      "Sex            FMMFFFFMMMFFMFFFMMMFMMMFFFMFFMFMMFMMMMFMFFMMFF...\n",
      "BP             HIGHLOWLOWNORMALLOWNORMALNORMALLOWNORMALLOWLOW...\n",
      "Cholesterol    HIGHHIGHHIGHHIGHHIGHHIGHHIGHHIGHHIGHNORMALHIGH...\n",
      "Na_to_K                                                 3216.897\n",
      "Drug           drugYdrugCdrugCdrugXdrugYdrugXdrugYdrugCdrugYd...\n",
      "dtype: object\n"
     ]
    }
   ],
   "source": [
    "print(data2.sum())\n"
   ]
  },
  {
   "cell_type": "code",
   "execution_count": 55,
   "id": "12ea8f37-c3e6-44d2-9120-76310700bd1c",
   "metadata": {},
   "outputs": [
    {
     "name": "stdout",
     "output_type": "stream",
     "text": [
      "      Age                                                Sex  \\\n",
      "0      23                                                  F   \n",
      "1      70                                                 FM   \n",
      "2     117                                                FMM   \n",
      "3     145                                               FMMF   \n",
      "4     206                                              FMMFF   \n",
      "..    ...                                                ...   \n",
      "195  8732  FMMFFFFMMMFFMFFFMMMFMMMFFFMFFMFMMFMMMMFMFFMMFF...   \n",
      "196  8748  FMMFFFFMMMFFMFFFMMMFMMMFFFMFFMFMMFMMMMFMFFMMFF...   \n",
      "197  8800  FMMFFFFMMMFFMFFFMMMFMMMFFFMFFMFMMFMMMMFMFFMMFF...   \n",
      "198  8823  FMMFFFFMMMFFMFFFMMMFMMMFFFMFFMFMMFMMMMFMFFMMFF...   \n",
      "199  8863  FMMFFFFMMMFFMFFFMMMFMMMFFFMFFMFMMFMMMMFMFFMMFF...   \n",
      "\n",
      "                                                    BP  \\\n",
      "0                                                 HIGH   \n",
      "1                                              HIGHLOW   \n",
      "2                                           HIGHLOWLOW   \n",
      "3                                     HIGHLOWLOWNORMAL   \n",
      "4                                  HIGHLOWLOWNORMALLOW   \n",
      "..                                                 ...   \n",
      "195  HIGHLOWLOWNORMALLOWNORMALNORMALLOWNORMALLOWLOW...   \n",
      "196  HIGHLOWLOWNORMALLOWNORMALNORMALLOWNORMALLOWLOW...   \n",
      "197  HIGHLOWLOWNORMALLOWNORMALNORMALLOWNORMALLOWLOW...   \n",
      "198  HIGHLOWLOWNORMALLOWNORMALNORMALLOWNORMALLOWLOW...   \n",
      "199  HIGHLOWLOWNORMALLOWNORMALNORMALLOWNORMALLOWLOW...   \n",
      "\n",
      "                                           Cholesterol   Na_to_K  \\\n",
      "0                                                 HIGH    25.355   \n",
      "1                                             HIGHHIGH    38.448   \n",
      "2                                         HIGHHIGHHIGH    48.562   \n",
      "3                                     HIGHHIGHHIGHHIGH    56.360   \n",
      "4                                 HIGHHIGHHIGHHIGHHIGH    74.403   \n",
      "..                                                 ...       ...   \n",
      "195  HIGHHIGHHIGHHIGHHIGHHIGHHIGHHIGHHIGHNORMALHIGH...  3169.628   \n",
      "196  HIGHHIGHHIGHHIGHHIGHHIGHHIGHHIGHHIGHNORMALHIGH...  3181.634   \n",
      "197  HIGHHIGHHIGHHIGHHIGHHIGHHIGHHIGHHIGHNORMALHIGH...  3191.528   \n",
      "198  HIGHHIGHHIGHHIGHHIGHHIGHHIGHHIGHHIGHNORMALHIGH...  3205.548   \n",
      "199  HIGHHIGHHIGHHIGHHIGHHIGHHIGHHIGHHIGHNORMALHIGH...  3216.897   \n",
      "\n",
      "                                                  Drug  \n",
      "0                                                drugY  \n",
      "1                                           drugYdrugC  \n",
      "2                                      drugYdrugCdrugC  \n",
      "3                                 drugYdrugCdrugCdrugX  \n",
      "4                            drugYdrugCdrugCdrugXdrugY  \n",
      "..                                                 ...  \n",
      "195  drugYdrugCdrugCdrugXdrugYdrugXdrugYdrugCdrugYd...  \n",
      "196  drugYdrugCdrugCdrugXdrugYdrugXdrugYdrugCdrugYd...  \n",
      "197  drugYdrugCdrugCdrugXdrugYdrugXdrugYdrugCdrugYd...  \n",
      "198  drugYdrugCdrugCdrugXdrugYdrugXdrugYdrugCdrugYd...  \n",
      "199  drugYdrugCdrugCdrugXdrugYdrugXdrugYdrugCdrugYd...  \n",
      "\n",
      "[200 rows x 6 columns]\n"
     ]
    }
   ],
   "source": [
    "print(data2.cumsum())\n"
   ]
  },
  {
   "cell_type": "code",
   "execution_count": 56,
   "id": "0e01f87b-e5bc-497c-a6f9-0d30431ecacc",
   "metadata": {},
   "outputs": [
    {
     "name": "stdout",
     "output_type": "stream",
     "text": [
      "Age            200\n",
      "Sex            200\n",
      "BP             200\n",
      "Cholesterol    200\n",
      "Na_to_K        200\n",
      "Drug           200\n",
      "dtype: int64\n"
     ]
    }
   ],
   "source": [
    "print(data2.count())"
   ]
  },
  {
   "cell_type": "code",
   "execution_count": 57,
   "id": "179ff073-297a-4cff-81ce-f59e5970960d",
   "metadata": {},
   "outputs": [
    {
     "name": "stdout",
     "output_type": "stream",
     "text": [
      "Age               15\n",
      "Sex                F\n",
      "BP              HIGH\n",
      "Cholesterol     HIGH\n",
      "Na_to_K        6.269\n",
      "Drug           drugA\n",
      "dtype: object\n"
     ]
    }
   ],
   "source": [
    "print(data2.min())"
   ]
  },
  {
   "cell_type": "code",
   "execution_count": 58,
   "id": "ba2c8d93-a766-4c88-a1b9-b949bdcf0fb9",
   "metadata": {},
   "outputs": [
    {
     "name": "stdout",
     "output_type": "stream",
     "text": [
      "Age                74\n",
      "Sex                 M\n",
      "BP             NORMAL\n",
      "Cholesterol    NORMAL\n",
      "Na_to_K        38.247\n",
      "Drug            drugY\n",
      "dtype: object\n"
     ]
    }
   ],
   "source": [
    "print(data2.max())\n"
   ]
  },
  {
   "cell_type": "code",
   "execution_count": 59,
   "id": "3f1ad11a-7fdd-4ed2-be99-9412dca993b1",
   "metadata": {},
   "outputs": [
    {
     "data": {
      "text/html": [
       "<div>\n",
       "<style scoped>\n",
       "    .dataframe tbody tr th:only-of-type {\n",
       "        vertical-align: middle;\n",
       "    }\n",
       "\n",
       "    .dataframe tbody tr th {\n",
       "        vertical-align: top;\n",
       "    }\n",
       "\n",
       "    .dataframe thead th {\n",
       "        text-align: right;\n",
       "    }\n",
       "</style>\n",
       "<table border=\"1\" class=\"dataframe\">\n",
       "  <thead>\n",
       "    <tr style=\"text-align: right;\">\n",
       "      <th></th>\n",
       "      <th>Age</th>\n",
       "      <th>Sex</th>\n",
       "      <th>BP</th>\n",
       "      <th>Cholesterol</th>\n",
       "      <th>Na_to_K</th>\n",
       "      <th>Drug</th>\n",
       "    </tr>\n",
       "  </thead>\n",
       "  <tbody>\n",
       "    <tr>\n",
       "      <th>0</th>\n",
       "      <td>23</td>\n",
       "      <td>F</td>\n",
       "      <td>2</td>\n",
       "      <td>2</td>\n",
       "      <td>25.355</td>\n",
       "      <td>drugY</td>\n",
       "    </tr>\n",
       "    <tr>\n",
       "      <th>1</th>\n",
       "      <td>47</td>\n",
       "      <td>M</td>\n",
       "      <td>0</td>\n",
       "      <td>2</td>\n",
       "      <td>13.093</td>\n",
       "      <td>drugC</td>\n",
       "    </tr>\n",
       "    <tr>\n",
       "      <th>2</th>\n",
       "      <td>47</td>\n",
       "      <td>M</td>\n",
       "      <td>0</td>\n",
       "      <td>2</td>\n",
       "      <td>10.114</td>\n",
       "      <td>drugC</td>\n",
       "    </tr>\n",
       "    <tr>\n",
       "      <th>3</th>\n",
       "      <td>28</td>\n",
       "      <td>F</td>\n",
       "      <td>1</td>\n",
       "      <td>2</td>\n",
       "      <td>7.798</td>\n",
       "      <td>drugX</td>\n",
       "    </tr>\n",
       "    <tr>\n",
       "      <th>4</th>\n",
       "      <td>61</td>\n",
       "      <td>F</td>\n",
       "      <td>0</td>\n",
       "      <td>2</td>\n",
       "      <td>18.043</td>\n",
       "      <td>drugY</td>\n",
       "    </tr>\n",
       "    <tr>\n",
       "      <th>...</th>\n",
       "      <td>...</td>\n",
       "      <td>...</td>\n",
       "      <td>...</td>\n",
       "      <td>...</td>\n",
       "      <td>...</td>\n",
       "      <td>...</td>\n",
       "    </tr>\n",
       "    <tr>\n",
       "      <th>195</th>\n",
       "      <td>56</td>\n",
       "      <td>F</td>\n",
       "      <td>0</td>\n",
       "      <td>2</td>\n",
       "      <td>11.567</td>\n",
       "      <td>drugC</td>\n",
       "    </tr>\n",
       "    <tr>\n",
       "      <th>196</th>\n",
       "      <td>16</td>\n",
       "      <td>M</td>\n",
       "      <td>0</td>\n",
       "      <td>2</td>\n",
       "      <td>12.006</td>\n",
       "      <td>drugC</td>\n",
       "    </tr>\n",
       "    <tr>\n",
       "      <th>197</th>\n",
       "      <td>52</td>\n",
       "      <td>M</td>\n",
       "      <td>1</td>\n",
       "      <td>2</td>\n",
       "      <td>9.894</td>\n",
       "      <td>drugX</td>\n",
       "    </tr>\n",
       "    <tr>\n",
       "      <th>198</th>\n",
       "      <td>23</td>\n",
       "      <td>M</td>\n",
       "      <td>1</td>\n",
       "      <td>1</td>\n",
       "      <td>14.020</td>\n",
       "      <td>drugX</td>\n",
       "    </tr>\n",
       "    <tr>\n",
       "      <th>199</th>\n",
       "      <td>40</td>\n",
       "      <td>F</td>\n",
       "      <td>0</td>\n",
       "      <td>1</td>\n",
       "      <td>11.349</td>\n",
       "      <td>drugX</td>\n",
       "    </tr>\n",
       "  </tbody>\n",
       "</table>\n",
       "<p>200 rows × 6 columns</p>\n",
       "</div>"
      ],
      "text/plain": [
       "     Age Sex  BP  Cholesterol  Na_to_K   Drug\n",
       "0     23   F   2            2   25.355  drugY\n",
       "1     47   M   0            2   13.093  drugC\n",
       "2     47   M   0            2   10.114  drugC\n",
       "3     28   F   1            2    7.798  drugX\n",
       "4     61   F   0            2   18.043  drugY\n",
       "..   ...  ..  ..          ...      ...    ...\n",
       "195   56   F   0            2   11.567  drugC\n",
       "196   16   M   0            2   12.006  drugC\n",
       "197   52   M   1            2    9.894  drugX\n",
       "198   23   M   1            1   14.020  drugX\n",
       "199   40   F   0            1   11.349  drugX\n",
       "\n",
       "[200 rows x 6 columns]"
      ]
     },
     "execution_count": 59,
     "metadata": {},
     "output_type": "execute_result"
    }
   ],
   "source": [
    "BP = {\"BP\":{\"LOW\":0,\"NORMAL\":1,\"HIGH\":2}}\n",
    "data2 = data2.replace(BP)\n",
    "Cholesterol = {\"Cholesterol\":{\"LOW\":0,\"NORMAL\":1,\"HIGH\":2}}\n",
    "data2 = data2.replace(Cholesterol)\n",
    "data2\n"
   ]
  },
  {
   "cell_type": "code",
   "execution_count": 60,
   "id": "928c4a5a-ec94-48f4-84ad-c8f5b785aea7",
   "metadata": {},
   "outputs": [],
   "source": [
    "new_data2 = data2.drop([\"Drug\",\"Sex\"],axis=1)"
   ]
  },
  {
   "cell_type": "code",
   "execution_count": 61,
   "id": "136843c7-2d7f-4777-a6a2-8f1abffd061c",
   "metadata": {},
   "outputs": [
    {
     "name": "stdout",
     "output_type": "stream",
     "text": [
      "Age            44.315000\n",
      "BP              1.065000\n",
      "Cholesterol     1.515000\n",
      "Na_to_K        16.084485\n",
      "dtype: float64\n"
     ]
    }
   ],
   "source": [
    "print(new_data2.mean())"
   ]
  },
  {
   "cell_type": "code",
   "execution_count": 62,
   "id": "1e76c0ca-fea1-4591-80bc-36d0ff0cb3b9",
   "metadata": {},
   "outputs": [
    {
     "name": "stdout",
     "output_type": "stream",
     "text": [
      "    Age   BP  Cholesterol  Na_to_K\n",
      "0  47.0  2.0          2.0   12.006\n",
      "1   NaN  NaN          NaN   18.295\n"
     ]
    }
   ],
   "source": [
    "print(new_data2.mode())\n"
   ]
  },
  {
   "cell_type": "code",
   "execution_count": 63,
   "id": "16153544-4b4a-4db5-bb89-7880f8b2dae7",
   "metadata": {},
   "outputs": [
    {
     "name": "stdout",
     "output_type": "stream",
     "text": [
      "Age            45.0000\n",
      "BP              1.0000\n",
      "Cholesterol     2.0000\n",
      "Na_to_K        13.9365\n",
      "dtype: float64\n"
     ]
    }
   ],
   "source": [
    "print(new_data2.median())"
   ]
  },
  {
   "cell_type": "code",
   "execution_count": 64,
   "id": "d068f9e6-e257-4051-bb34-64f3413c9a25",
   "metadata": {},
   "outputs": [
    {
     "name": "stdout",
     "output_type": "stream",
     "text": [
      "              Age          BP  Cholesterol     Na_to_K\n",
      "count  200.000000  200.000000   200.000000  200.000000\n",
      "mean    44.315000    1.065000     1.515000   16.084485\n",
      "std     16.544315    0.839224     0.501029    7.223956\n",
      "min     15.000000    0.000000     1.000000    6.269000\n",
      "25%     31.000000    0.000000     1.000000   10.445500\n",
      "50%     45.000000    1.000000     2.000000   13.936500\n",
      "75%     58.000000    2.000000     2.000000   19.380000\n",
      "max     74.000000    2.000000     2.000000   38.247000\n"
     ]
    }
   ],
   "source": [
    "print(new_data2.describe())"
   ]
  },
  {
   "cell_type": "code",
   "execution_count": 65,
   "id": "b3630b7c-c232-4784-88a6-3b003864a555",
   "metadata": {},
   "outputs": [],
   "source": [
    "from numpy import cov"
   ]
  },
  {
   "cell_type": "code",
   "execution_count": 66,
   "id": "a0f75682-6ce3-4561-b82b-1bca498d20f6",
   "metadata": {},
   "outputs": [
    {
     "name": "stdout",
     "output_type": "stream",
     "text": [
      "0      23\n",
      "1      47\n",
      "2      47\n",
      "3      28\n",
      "4      61\n",
      "       ..\n",
      "195    56\n",
      "196    16\n",
      "197    52\n",
      "198    23\n",
      "199    40\n",
      "Name: Age, Length: 200, dtype: int64\n",
      "0      2\n",
      "1      2\n",
      "2      2\n",
      "3      2\n",
      "4      2\n",
      "      ..\n",
      "195    2\n",
      "196    2\n",
      "197    2\n",
      "198    1\n",
      "199    1\n",
      "Name: Cholesterol, Length: 200, dtype: int64\n"
     ]
    }
   ],
   "source": [
    "data3=data2.Age\n",
    "data4=data2.Cholesterol\n",
    "print(data3)\n",
    "print(data4)"
   ]
  },
  {
   "cell_type": "code",
   "execution_count": 67,
   "id": "4d204110-477b-4095-bdc3-d09562b46103",
   "metadata": {},
   "outputs": [
    {
     "name": "stdout",
     "output_type": "stream",
     "text": [
      "[[2.73714347e+02 5.65603015e-01]\n",
      " [5.65603015e-01 2.51030151e-01]]\n"
     ]
    }
   ],
   "source": [
    "covariance=cov(data3,data4)\n",
    "print(covariance)\n"
   ]
  },
  {
   "cell_type": "code",
   "execution_count": 68,
   "id": "0215d2c7-9a02-46f0-bbaa-f651370f3052",
   "metadata": {},
   "outputs": [
    {
     "name": "stdout",
     "output_type": "stream",
     "text": [
      "0.06823386810675444\n"
     ]
    }
   ],
   "source": [
    "from scipy.stats import pearsonr\n",
    "data3=data2.Age\n",
    "data4=data2.Cholesterol\n",
    "corr,_=pearsonr(data3,data4)\n",
    "print(corr)"
   ]
  },
  {
   "cell_type": "code",
   "execution_count": 69,
   "id": "9bc97205-a943-4ce2-9751-46f7d7264f9a",
   "metadata": {},
   "outputs": [
    {
     "name": "stdout",
     "output_type": "stream",
     "text": [
      "0.0688114033967977\n"
     ]
    }
   ],
   "source": [
    "from scipy.stats import spearmanr\n",
    "data3=data2.Age\n",
    "data4=data2.Cholesterol\n",
    "corr,_=spearmanr(data3,data4)\n",
    "print(corr)"
   ]
  },
  {
   "cell_type": "code",
   "execution_count": null,
   "id": "f222da2e-2383-4de0-9b98-7a79b87fa5ba",
   "metadata": {},
   "outputs": [],
   "source": []
  }
 ],
 "metadata": {
  "kernelspec": {
   "display_name": "Python 3 (ipykernel)",
   "language": "python",
   "name": "python3"
  },
  "language_info": {
   "codemirror_mode": {
    "name": "ipython",
    "version": 3
   },
   "file_extension": ".py",
   "mimetype": "text/x-python",
   "name": "python",
   "nbconvert_exporter": "python",
   "pygments_lexer": "ipython3",
   "version": "3.11.5"
  }
 },
 "nbformat": 4,
 "nbformat_minor": 5
}
